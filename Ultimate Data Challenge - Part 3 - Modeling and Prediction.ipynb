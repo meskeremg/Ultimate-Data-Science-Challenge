{
 "cells": [
  {
   "cell_type": "markdown",
   "id": "9752791a",
   "metadata": {},
   "source": [
    "# Data Wrangling"
   ]
  },
  {
   "cell_type": "code",
   "execution_count": 98,
   "id": "b778ea69",
   "metadata": {},
   "outputs": [],
   "source": [
    "# Importing the necessary libraries\n",
    "\n",
    "import numpy as np\n",
    "import pandas as pd\n",
    "import matplotlib as plt"
   ]
  },
  {
   "cell_type": "code",
   "execution_count": 99,
   "id": "c4eefc66",
   "metadata": {},
   "outputs": [
    {
     "data": {
      "text/html": [
       "<div>\n",
       "<style scoped>\n",
       "    .dataframe tbody tr th:only-of-type {\n",
       "        vertical-align: middle;\n",
       "    }\n",
       "\n",
       "    .dataframe tbody tr th {\n",
       "        vertical-align: top;\n",
       "    }\n",
       "\n",
       "    .dataframe thead th {\n",
       "        text-align: right;\n",
       "    }\n",
       "</style>\n",
       "<table border=\"1\" class=\"dataframe\">\n",
       "  <thead>\n",
       "    <tr style=\"text-align: right;\">\n",
       "      <th></th>\n",
       "      <th>city</th>\n",
       "      <th>trips_in_first_30_days</th>\n",
       "      <th>signup_date</th>\n",
       "      <th>avg_rating_of_driver</th>\n",
       "      <th>avg_surge</th>\n",
       "      <th>last_trip_date</th>\n",
       "      <th>phone</th>\n",
       "      <th>surge_pct</th>\n",
       "      <th>ultimate_black_user</th>\n",
       "      <th>weekday_pct</th>\n",
       "      <th>avg_dist</th>\n",
       "      <th>avg_rating_by_driver</th>\n",
       "    </tr>\n",
       "  </thead>\n",
       "  <tbody>\n",
       "    <tr>\n",
       "      <th>0</th>\n",
       "      <td>King's Landing</td>\n",
       "      <td>4</td>\n",
       "      <td>2014-01-25</td>\n",
       "      <td>4.7</td>\n",
       "      <td>1.10</td>\n",
       "      <td>2014-06-17</td>\n",
       "      <td>iPhone</td>\n",
       "      <td>15.4</td>\n",
       "      <td>True</td>\n",
       "      <td>46.2</td>\n",
       "      <td>3.67</td>\n",
       "      <td>5.0</td>\n",
       "    </tr>\n",
       "    <tr>\n",
       "      <th>1</th>\n",
       "      <td>Astapor</td>\n",
       "      <td>0</td>\n",
       "      <td>2014-01-29</td>\n",
       "      <td>5.0</td>\n",
       "      <td>1.00</td>\n",
       "      <td>2014-05-05</td>\n",
       "      <td>Android</td>\n",
       "      <td>0.0</td>\n",
       "      <td>False</td>\n",
       "      <td>50.0</td>\n",
       "      <td>8.26</td>\n",
       "      <td>5.0</td>\n",
       "    </tr>\n",
       "    <tr>\n",
       "      <th>2</th>\n",
       "      <td>Astapor</td>\n",
       "      <td>3</td>\n",
       "      <td>2014-01-06</td>\n",
       "      <td>4.3</td>\n",
       "      <td>1.00</td>\n",
       "      <td>2014-01-07</td>\n",
       "      <td>iPhone</td>\n",
       "      <td>0.0</td>\n",
       "      <td>False</td>\n",
       "      <td>100.0</td>\n",
       "      <td>0.77</td>\n",
       "      <td>5.0</td>\n",
       "    </tr>\n",
       "    <tr>\n",
       "      <th>3</th>\n",
       "      <td>King's Landing</td>\n",
       "      <td>9</td>\n",
       "      <td>2014-01-10</td>\n",
       "      <td>4.6</td>\n",
       "      <td>1.14</td>\n",
       "      <td>2014-06-29</td>\n",
       "      <td>iPhone</td>\n",
       "      <td>20.0</td>\n",
       "      <td>True</td>\n",
       "      <td>80.0</td>\n",
       "      <td>2.36</td>\n",
       "      <td>4.9</td>\n",
       "    </tr>\n",
       "    <tr>\n",
       "      <th>4</th>\n",
       "      <td>Winterfell</td>\n",
       "      <td>14</td>\n",
       "      <td>2014-01-27</td>\n",
       "      <td>4.4</td>\n",
       "      <td>1.19</td>\n",
       "      <td>2014-03-15</td>\n",
       "      <td>Android</td>\n",
       "      <td>11.8</td>\n",
       "      <td>False</td>\n",
       "      <td>82.4</td>\n",
       "      <td>3.13</td>\n",
       "      <td>4.9</td>\n",
       "    </tr>\n",
       "  </tbody>\n",
       "</table>\n",
       "</div>"
      ],
      "text/plain": [
       "             city  trips_in_first_30_days signup_date  avg_rating_of_driver  \\\n",
       "0  King's Landing                       4  2014-01-25                   4.7   \n",
       "1         Astapor                       0  2014-01-29                   5.0   \n",
       "2         Astapor                       3  2014-01-06                   4.3   \n",
       "3  King's Landing                       9  2014-01-10                   4.6   \n",
       "4      Winterfell                      14  2014-01-27                   4.4   \n",
       "\n",
       "   avg_surge last_trip_date    phone  surge_pct  ultimate_black_user  \\\n",
       "0       1.10     2014-06-17   iPhone       15.4                 True   \n",
       "1       1.00     2014-05-05  Android        0.0                False   \n",
       "2       1.00     2014-01-07   iPhone        0.0                False   \n",
       "3       1.14     2014-06-29   iPhone       20.0                 True   \n",
       "4       1.19     2014-03-15  Android       11.8                False   \n",
       "\n",
       "   weekday_pct  avg_dist  avg_rating_by_driver  \n",
       "0         46.2      3.67                   5.0  \n",
       "1         50.0      8.26                   5.0  \n",
       "2        100.0      0.77                   5.0  \n",
       "3         80.0      2.36                   4.9  \n",
       "4         82.4      3.13                   4.9  "
      ]
     },
     "execution_count": 99,
     "metadata": {},
     "output_type": "execute_result"
    }
   ],
   "source": [
    "# loading the drivers data\n",
    "\n",
    "drivers = pd.read_json('ultimate_data_challenge.json')\n",
    "drivers.head(5)"
   ]
  },
  {
   "cell_type": "code",
   "execution_count": 100,
   "id": "ca6066ad",
   "metadata": {},
   "outputs": [
    {
     "data": {
      "text/html": [
       "<div>\n",
       "<style scoped>\n",
       "    .dataframe tbody tr th:only-of-type {\n",
       "        vertical-align: middle;\n",
       "    }\n",
       "\n",
       "    .dataframe tbody tr th {\n",
       "        vertical-align: top;\n",
       "    }\n",
       "\n",
       "    .dataframe thead th {\n",
       "        text-align: right;\n",
       "    }\n",
       "</style>\n",
       "<table border=\"1\" class=\"dataframe\">\n",
       "  <thead>\n",
       "    <tr style=\"text-align: right;\">\n",
       "      <th></th>\n",
       "      <th>city</th>\n",
       "      <th>trips_in_first_30_days</th>\n",
       "      <th>signup_date</th>\n",
       "      <th>avg_rating_of_driver</th>\n",
       "      <th>avg_surge</th>\n",
       "      <th>last_trip_date</th>\n",
       "      <th>phone</th>\n",
       "      <th>surge_pct</th>\n",
       "      <th>ultimate_black_user</th>\n",
       "      <th>weekday_pct</th>\n",
       "      <th>avg_dist</th>\n",
       "      <th>avg_rating_by_driver</th>\n",
       "    </tr>\n",
       "  </thead>\n",
       "  <tbody>\n",
       "    <tr>\n",
       "      <th>4674</th>\n",
       "      <td>Astapor</td>\n",
       "      <td>2</td>\n",
       "      <td>2014-01-01</td>\n",
       "      <td>NaN</td>\n",
       "      <td>1.0</td>\n",
       "      <td>2014-06-28</td>\n",
       "      <td>iPhone</td>\n",
       "      <td>0.0</td>\n",
       "      <td>False</td>\n",
       "      <td>0.0</td>\n",
       "      <td>4.03</td>\n",
       "      <td>4.0</td>\n",
       "    </tr>\n",
       "    <tr>\n",
       "      <th>7672</th>\n",
       "      <td>Winterfell</td>\n",
       "      <td>1</td>\n",
       "      <td>2014-01-01</td>\n",
       "      <td>NaN</td>\n",
       "      <td>1.0</td>\n",
       "      <td>2014-01-01</td>\n",
       "      <td>iPhone</td>\n",
       "      <td>0.0</td>\n",
       "      <td>True</td>\n",
       "      <td>100.0</td>\n",
       "      <td>3.39</td>\n",
       "      <td>5.0</td>\n",
       "    </tr>\n",
       "    <tr>\n",
       "      <th>1431</th>\n",
       "      <td>Winterfell</td>\n",
       "      <td>0</td>\n",
       "      <td>2014-01-01</td>\n",
       "      <td>NaN</td>\n",
       "      <td>1.0</td>\n",
       "      <td>2014-06-08</td>\n",
       "      <td>iPhone</td>\n",
       "      <td>0.0</td>\n",
       "      <td>True</td>\n",
       "      <td>66.7</td>\n",
       "      <td>9.76</td>\n",
       "      <td>5.0</td>\n",
       "    </tr>\n",
       "    <tr>\n",
       "      <th>15387</th>\n",
       "      <td>Winterfell</td>\n",
       "      <td>2</td>\n",
       "      <td>2014-01-01</td>\n",
       "      <td>5.0</td>\n",
       "      <td>1.0</td>\n",
       "      <td>2014-06-20</td>\n",
       "      <td>Android</td>\n",
       "      <td>0.0</td>\n",
       "      <td>False</td>\n",
       "      <td>54.5</td>\n",
       "      <td>5.03</td>\n",
       "      <td>4.7</td>\n",
       "    </tr>\n",
       "    <tr>\n",
       "      <th>17482</th>\n",
       "      <td>Winterfell</td>\n",
       "      <td>0</td>\n",
       "      <td>2014-01-01</td>\n",
       "      <td>3.0</td>\n",
       "      <td>1.5</td>\n",
       "      <td>2014-05-18</td>\n",
       "      <td>iPhone</td>\n",
       "      <td>100.0</td>\n",
       "      <td>False</td>\n",
       "      <td>0.0</td>\n",
       "      <td>3.28</td>\n",
       "      <td>5.0</td>\n",
       "    </tr>\n",
       "  </tbody>\n",
       "</table>\n",
       "</div>"
      ],
      "text/plain": [
       "             city  trips_in_first_30_days signup_date  avg_rating_of_driver  \\\n",
       "4674      Astapor                       2  2014-01-01                   NaN   \n",
       "7672   Winterfell                       1  2014-01-01                   NaN   \n",
       "1431   Winterfell                       0  2014-01-01                   NaN   \n",
       "15387  Winterfell                       2  2014-01-01                   5.0   \n",
       "17482  Winterfell                       0  2014-01-01                   3.0   \n",
       "\n",
       "       avg_surge last_trip_date    phone  surge_pct  ultimate_black_user  \\\n",
       "4674         1.0     2014-06-28   iPhone        0.0                False   \n",
       "7672         1.0     2014-01-01   iPhone        0.0                 True   \n",
       "1431         1.0     2014-06-08   iPhone        0.0                 True   \n",
       "15387        1.0     2014-06-20  Android        0.0                False   \n",
       "17482        1.5     2014-05-18   iPhone      100.0                False   \n",
       "\n",
       "       weekday_pct  avg_dist  avg_rating_by_driver  \n",
       "4674           0.0      4.03                   4.0  \n",
       "7672         100.0      3.39                   5.0  \n",
       "1431          66.7      9.76                   5.0  \n",
       "15387         54.5      5.03                   4.7  \n",
       "17482          0.0      3.28                   5.0  "
      ]
     },
     "execution_count": 100,
     "metadata": {},
     "output_type": "execute_result"
    }
   ],
   "source": [
    "# Sorting the data by signup data to find the earliest signup date\n",
    "\n",
    "drivers.sort_values(by='signup_date', ascending=True).head()\n",
    "\n",
    "# Earliest signup_date 2014-01-01"
   ]
  },
  {
   "cell_type": "code",
   "execution_count": 101,
   "id": "9a05ef28",
   "metadata": {},
   "outputs": [
    {
     "name": "stdout",
     "output_type": "stream",
     "text": [
      "<class 'pandas.core.frame.DataFrame'>\n",
      "RangeIndex: 50000 entries, 0 to 49999\n",
      "Data columns (total 12 columns):\n",
      " #   Column                  Non-Null Count  Dtype  \n",
      "---  ------                  --------------  -----  \n",
      " 0   city                    50000 non-null  object \n",
      " 1   trips_in_first_30_days  50000 non-null  int64  \n",
      " 2   signup_date             50000 non-null  object \n",
      " 3   avg_rating_of_driver    41878 non-null  float64\n",
      " 4   avg_surge               50000 non-null  float64\n",
      " 5   last_trip_date          50000 non-null  object \n",
      " 6   phone                   49604 non-null  object \n",
      " 7   surge_pct               50000 non-null  float64\n",
      " 8   ultimate_black_user     50000 non-null  bool   \n",
      " 9   weekday_pct             50000 non-null  float64\n",
      " 10  avg_dist                50000 non-null  float64\n",
      " 11  avg_rating_by_driver    49799 non-null  float64\n",
      "dtypes: bool(1), float64(6), int64(1), object(4)\n",
      "memory usage: 4.2+ MB\n"
     ]
    }
   ],
   "source": [
    "drivers.info()"
   ]
  },
  {
   "cell_type": "markdown",
   "id": "551fb06b",
   "metadata": {},
   "source": [
    "# Handling Missing Values"
   ]
  },
  {
   "cell_type": "code",
   "execution_count": 103,
   "id": "de8d3593",
   "metadata": {},
   "outputs": [
    {
     "data": {
      "text/plain": [
       "city                         0\n",
       "trips_in_first_30_days       0\n",
       "signup_date                  0\n",
       "avg_rating_of_driver      8122\n",
       "avg_surge                    0\n",
       "last_trip_date               0\n",
       "phone                      396\n",
       "surge_pct                    0\n",
       "ultimate_black_user          0\n",
       "weekday_pct                  0\n",
       "avg_dist                     0\n",
       "avg_rating_by_driver       201\n",
       "dtype: int64"
      ]
     },
     "execution_count": 103,
     "metadata": {},
     "output_type": "execute_result"
    }
   ],
   "source": [
    "# Any null values\n",
    "\n",
    "drivers.isnull().sum()"
   ]
  },
  {
   "cell_type": "code",
   "execution_count": 6,
   "id": "dc0e5929",
   "metadata": {},
   "outputs": [
    {
     "name": "stdout",
     "output_type": "stream",
     "text": [
      "<class 'pandas.core.frame.DataFrame'>\n",
      "Int64Index: 41445 entries, 0 to 49998\n",
      "Data columns (total 12 columns):\n",
      " #   Column                  Non-Null Count  Dtype  \n",
      "---  ------                  --------------  -----  \n",
      " 0   city                    41445 non-null  object \n",
      " 1   trips_in_first_30_days  41445 non-null  int64  \n",
      " 2   signup_date             41445 non-null  object \n",
      " 3   avg_rating_of_driver    41445 non-null  float64\n",
      " 4   avg_surge               41445 non-null  float64\n",
      " 5   last_trip_date          41445 non-null  object \n",
      " 6   phone                   41445 non-null  object \n",
      " 7   surge_pct               41445 non-null  float64\n",
      " 8   ultimate_black_user     41445 non-null  bool   \n",
      " 9   weekday_pct             41445 non-null  float64\n",
      " 10  avg_dist                41445 non-null  float64\n",
      " 11  avg_rating_by_driver    41445 non-null  float64\n",
      "dtypes: bool(1), float64(6), int64(1), object(4)\n",
      "memory usage: 3.8+ MB\n"
     ]
    }
   ],
   "source": [
    "# Dropping null values\n",
    "\n",
    "drivers = drivers.dropna()\n",
    "drivers.info()"
   ]
  },
  {
   "cell_type": "markdown",
   "id": "fb9af737",
   "metadata": {},
   "source": [
    "# Exploratory Data Analysis"
   ]
  },
  {
   "cell_type": "code",
   "execution_count": 7,
   "id": "d7e157b0",
   "metadata": {},
   "outputs": [
    {
     "data": {
      "text/plain": [
       "array([[<AxesSubplot:title={'center':'trips_in_first_30_days'}>,\n",
       "        <AxesSubplot:title={'center':'avg_rating_of_driver'}>,\n",
       "        <AxesSubplot:title={'center':'avg_surge'}>],\n",
       "       [<AxesSubplot:title={'center':'surge_pct'}>,\n",
       "        <AxesSubplot:title={'center':'weekday_pct'}>,\n",
       "        <AxesSubplot:title={'center':'avg_dist'}>],\n",
       "       [<AxesSubplot:title={'center':'avg_rating_by_driver'}>,\n",
       "        <AxesSubplot:>, <AxesSubplot:>]], dtype=object)"
      ]
     },
     "execution_count": 7,
     "metadata": {},
     "output_type": "execute_result"
    },
    {
     "data": {
      "image/png": "[encoded data removed]",
      "text/plain": [
       "<Figure size 432x288 with 9 Axes>"
      ]
     },
     "metadata": {
      "needs_background": "light"
     },
     "output_type": "display_data"
    }
   ],
   "source": [
    "# a quick overview of the distribution of the numerical columns\n",
    "\n",
    "drivers.hist()"
   ]
  },
  {
   "cell_type": "code",
   "execution_count": 8,
   "id": "021c5aec",
   "metadata": {},
   "outputs": [
    {
     "data": {
      "text/plain": [
       "<AxesSubplot:>"
      ]
     },
     "execution_count": 8,
     "metadata": {},
     "output_type": "execute_result"
    },
    {
     "data": {
      "image/png": "[encoded data removed]",
      "text/plain": [
       "<Figure size 432x288 with 1 Axes>"
      ]
     },
     "metadata": {
      "needs_background": "light"
     },
     "output_type": "display_data"
    }
   ],
   "source": [
    "# Majority of ratings by customers are 5 points\n",
    "drivers['avg_rating_of_driver'].hist()"
   ]
  },
  {
   "cell_type": "code",
   "execution_count": 9,
   "id": "74f1554c",
   "metadata": {},
   "outputs": [
    {
     "data": {
      "text/plain": [
       "<AxesSubplot:>"
      ]
     },
     "execution_count": 9,
     "metadata": {},
     "output_type": "execute_result"
    },
    {
     "data": {
      "image/png": "[encoded data removed]",
      "text/plain": [
       "<Figure size 432x288 with 1 Axes>"
      ]
     },
     "metadata": {
      "needs_background": "light"
     },
     "output_type": "display_data"
    }
   ],
   "source": [
    "# Majority of rating by drivers are also 5.\n",
    "drivers['avg_rating_by_driver'].hist()"
   ]
  },
  {
   "cell_type": "markdown",
   "id": "e5863620",
   "metadata": {},
   "source": [
    "Most drivers and customers seem to give a 5 rating. \n",
    "However, drivers seem to rate customer a little higher than customers rating drivers."
   ]
  },
  {
   "cell_type": "code",
   "execution_count": 93,
   "id": "8c22aea8",
   "metadata": {},
   "outputs": [
    {
     "name": "stdout",
     "output_type": "stream",
     "text": [
      "0.2926829268292683\n"
     ]
    },
    {
     "data": {
      "text/plain": [
       "<AxesSubplot:>"
      ]
     },
     "execution_count": 93,
     "metadata": {},
     "output_type": "execute_result"
    },
    {
     "data": {
      "image/png": "[encoded data removed]",
      "text/plain": [
       "<Figure size 432x288 with 1 Axes>"
      ]
     },
     "metadata": {
      "needs_background": "light"
     },
     "output_type": "display_data"
    }
   ],
   "source": [
    "print(12000/41000)\n",
    "# Some 12,000 drivers (about 29% of drivers) work 98% or more of their time in the weekdays.\n",
    "\n",
    "drivers['weekday_pct'].hist()"
   ]
  },
  {
   "cell_type": "code",
   "execution_count": 95,
   "id": "dc62fad4",
   "metadata": {},
   "outputs": [
    {
     "data": {
      "text/plain": [
       "12089"
      ]
     },
     "execution_count": 95,
     "metadata": {},
     "output_type": "execute_result"
    }
   ],
   "source": [
    "drivers[drivers['weekday_pct'] > 98]['weekday_pct'].count()"
   ]
  },
  {
   "cell_type": "markdown",
   "id": "b61ed4f9",
   "metadata": {},
   "source": [
    "Some 12,000 drivers (about 29%) drive mostly during the weekdays.\n",
    "Some 6,000 drivers (about 15%) drive mostly in the weekends.\n",
    "The rest of the drivers divide their driving time between weekdays and weekends."
   ]
  },
  {
   "cell_type": "code",
   "execution_count": 12,
   "id": "ae9fd5aa",
   "metadata": {},
   "outputs": [
    {
     "data": {
      "text/plain": [
       "6172"
      ]
     },
     "execution_count": 12,
     "metadata": {},
     "output_type": "execute_result"
    }
   ],
   "source": [
    "drivers[drivers['weekday_pct'] < 2]['weekday_pct'].count()"
   ]
  },
  {
   "cell_type": "markdown",
   "id": "da0f9da2",
   "metadata": {},
   "source": [
    "# Retained Drivers"
   ]
  },
  {
   "cell_type": "code",
   "execution_count": 13,
   "id": "22edbb62",
   "metadata": {},
   "outputs": [
    {
     "data": {
      "text/plain": [
       "0   2014-01-25\n",
       "1   2014-01-29\n",
       "2   2014-01-06\n",
       "3   2014-01-10\n",
       "4   2014-01-27\n",
       "Name: signup_date, dtype: datetime64[ns]"
      ]
     },
     "execution_count": 13,
     "metadata": {},
     "output_type": "execute_result"
    }
   ],
   "source": [
    "drivers['signup_date'] = pd.to_datetime(drivers['signup_date'])\n",
    "drivers['signup_date'].head()"
   ]
  },
  {
   "cell_type": "code",
   "execution_count": 14,
   "id": "1fd40690",
   "metadata": {},
   "outputs": [
    {
     "data": {
      "text/plain": [
       "0   2014-06-17\n",
       "1   2014-05-05\n",
       "2   2014-01-07\n",
       "3   2014-06-29\n",
       "4   2014-03-15\n",
       "Name: last_trip_date, dtype: datetime64[ns]"
      ]
     },
     "execution_count": 14,
     "metadata": {},
     "output_type": "execute_result"
    }
   ],
   "source": [
    "drivers['last_trip_date'] = pd.to_datetime(drivers['last_trip_date'])\n",
    "drivers['last_trip_date'].head()"
   ]
  },
  {
   "cell_type": "code",
   "execution_count": 15,
   "id": "8e1213f2",
   "metadata": {},
   "outputs": [],
   "source": [
    "# a user retained if they were “active” (i.e. took a trip) in the preceding 30 days."
   ]
  },
  {
   "cell_type": "code",
   "execution_count": 16,
   "id": "7f0cc3e7",
   "metadata": {},
   "outputs": [
    {
     "data": {
      "text/html": [
       "<div>\n",
       "<style scoped>\n",
       "    .dataframe tbody tr th:only-of-type {\n",
       "        vertical-align: middle;\n",
       "    }\n",
       "\n",
       "    .dataframe tbody tr th {\n",
       "        vertical-align: top;\n",
       "    }\n",
       "\n",
       "    .dataframe thead th {\n",
       "        text-align: right;\n",
       "    }\n",
       "</style>\n",
       "<table border=\"1\" class=\"dataframe\">\n",
       "  <thead>\n",
       "    <tr style=\"text-align: right;\">\n",
       "      <th></th>\n",
       "      <th>city</th>\n",
       "      <th>trips_in_first_30_days</th>\n",
       "      <th>signup_date</th>\n",
       "      <th>avg_rating_of_driver</th>\n",
       "      <th>avg_surge</th>\n",
       "      <th>last_trip_date</th>\n",
       "      <th>phone</th>\n",
       "      <th>surge_pct</th>\n",
       "      <th>ultimate_black_user</th>\n",
       "      <th>weekday_pct</th>\n",
       "      <th>avg_dist</th>\n",
       "      <th>avg_rating_by_driver</th>\n",
       "    </tr>\n",
       "  </thead>\n",
       "  <tbody>\n",
       "    <tr>\n",
       "      <th>24275</th>\n",
       "      <td>King's Landing</td>\n",
       "      <td>7</td>\n",
       "      <td>2014-01-08</td>\n",
       "      <td>4.8</td>\n",
       "      <td>1.00</td>\n",
       "      <td>2014-07-01</td>\n",
       "      <td>iPhone</td>\n",
       "      <td>0.0</td>\n",
       "      <td>True</td>\n",
       "      <td>67.6</td>\n",
       "      <td>2.17</td>\n",
       "      <td>4.7</td>\n",
       "    </tr>\n",
       "    <tr>\n",
       "      <th>23681</th>\n",
       "      <td>Astapor</td>\n",
       "      <td>5</td>\n",
       "      <td>2014-01-21</td>\n",
       "      <td>3.1</td>\n",
       "      <td>1.02</td>\n",
       "      <td>2014-07-01</td>\n",
       "      <td>iPhone</td>\n",
       "      <td>7.1</td>\n",
       "      <td>True</td>\n",
       "      <td>75.0</td>\n",
       "      <td>3.14</td>\n",
       "      <td>4.4</td>\n",
       "    </tr>\n",
       "    <tr>\n",
       "      <th>4385</th>\n",
       "      <td>King's Landing</td>\n",
       "      <td>0</td>\n",
       "      <td>2014-01-06</td>\n",
       "      <td>4.6</td>\n",
       "      <td>1.08</td>\n",
       "      <td>2014-07-01</td>\n",
       "      <td>iPhone</td>\n",
       "      <td>13.9</td>\n",
       "      <td>True</td>\n",
       "      <td>77.8</td>\n",
       "      <td>2.58</td>\n",
       "      <td>4.7</td>\n",
       "    </tr>\n",
       "    <tr>\n",
       "      <th>45155</th>\n",
       "      <td>Winterfell</td>\n",
       "      <td>3</td>\n",
       "      <td>2014-01-28</td>\n",
       "      <td>4.8</td>\n",
       "      <td>1.03</td>\n",
       "      <td>2014-07-01</td>\n",
       "      <td>iPhone</td>\n",
       "      <td>5.7</td>\n",
       "      <td>False</td>\n",
       "      <td>66.0</td>\n",
       "      <td>5.24</td>\n",
       "      <td>4.6</td>\n",
       "    </tr>\n",
       "    <tr>\n",
       "      <th>38661</th>\n",
       "      <td>Winterfell</td>\n",
       "      <td>4</td>\n",
       "      <td>2014-01-18</td>\n",
       "      <td>4.4</td>\n",
       "      <td>1.16</td>\n",
       "      <td>2014-07-01</td>\n",
       "      <td>iPhone</td>\n",
       "      <td>28.1</td>\n",
       "      <td>False</td>\n",
       "      <td>65.6</td>\n",
       "      <td>4.07</td>\n",
       "      <td>4.7</td>\n",
       "    </tr>\n",
       "  </tbody>\n",
       "</table>\n",
       "</div>"
      ],
      "text/plain": [
       "                 city  trips_in_first_30_days signup_date  \\\n",
       "24275  King's Landing                       7  2014-01-08   \n",
       "23681         Astapor                       5  2014-01-21   \n",
       "4385   King's Landing                       0  2014-01-06   \n",
       "45155      Winterfell                       3  2014-01-28   \n",
       "38661      Winterfell                       4  2014-01-18   \n",
       "\n",
       "       avg_rating_of_driver  avg_surge last_trip_date   phone  surge_pct  \\\n",
       "24275                   4.8       1.00     2014-07-01  iPhone        0.0   \n",
       "23681                   3.1       1.02     2014-07-01  iPhone        7.1   \n",
       "4385                    4.6       1.08     2014-07-01  iPhone       13.9   \n",
       "45155                   4.8       1.03     2014-07-01  iPhone        5.7   \n",
       "38661                   4.4       1.16     2014-07-01  iPhone       28.1   \n",
       "\n",
       "       ultimate_black_user  weekday_pct  avg_dist  avg_rating_by_driver  \n",
       "24275                 True         67.6      2.17                   4.7  \n",
       "23681                 True         75.0      3.14                   4.4  \n",
       "4385                  True         77.8      2.58                   4.7  \n",
       "45155                False         66.0      5.24                   4.6  \n",
       "38661                False         65.6      4.07                   4.7  "
      ]
     },
     "execution_count": 16,
     "metadata": {},
     "output_type": "execute_result"
    }
   ],
   "source": [
    "drivers.sort_values(by='last_trip_date', ascending=False).head()\n",
    "# Latest last trip date = 2014-07-01. I am assuming this is the date the data was taken."
   ]
  },
  {
   "cell_type": "code",
   "execution_count": 96,
   "id": "c2a2c148",
   "metadata": {},
   "outputs": [
    {
     "data": {
      "text/plain": [
       "Timestamp('2014-07-01 00:00:00')"
      ]
     },
     "execution_count": 96,
     "metadata": {},
     "output_type": "execute_result"
    }
   ],
   "source": [
    "# Latest trip date. I will take this as the current date, i.e. the date the data was taken.\n",
    "drivers['last_trip_date'].max()"
   ]
  },
  {
   "cell_type": "code",
   "execution_count": 17,
   "id": "125bd593",
   "metadata": {},
   "outputs": [
    {
     "data": {
      "text/html": [
       "<div>\n",
       "<style scoped>\n",
       "    .dataframe tbody tr th:only-of-type {\n",
       "        vertical-align: middle;\n",
       "    }\n",
       "\n",
       "    .dataframe tbody tr th {\n",
       "        vertical-align: top;\n",
       "    }\n",
       "\n",
       "    .dataframe thead th {\n",
       "        text-align: right;\n",
       "    }\n",
       "</style>\n",
       "<table border=\"1\" class=\"dataframe\">\n",
       "  <thead>\n",
       "    <tr style=\"text-align: right;\">\n",
       "      <th></th>\n",
       "      <th>city</th>\n",
       "      <th>trips_in_first_30_days</th>\n",
       "      <th>signup_date</th>\n",
       "      <th>avg_rating_of_driver</th>\n",
       "      <th>avg_surge</th>\n",
       "      <th>last_trip_date</th>\n",
       "      <th>phone</th>\n",
       "      <th>surge_pct</th>\n",
       "      <th>ultimate_black_user</th>\n",
       "      <th>weekday_pct</th>\n",
       "      <th>avg_dist</th>\n",
       "      <th>avg_rating_by_driver</th>\n",
       "      <th>days_since_last_trip</th>\n",
       "    </tr>\n",
       "  </thead>\n",
       "  <tbody>\n",
       "    <tr>\n",
       "      <th>0</th>\n",
       "      <td>King's Landing</td>\n",
       "      <td>4</td>\n",
       "      <td>2014-01-25</td>\n",
       "      <td>4.7</td>\n",
       "      <td>1.10</td>\n",
       "      <td>2014-06-17</td>\n",
       "      <td>iPhone</td>\n",
       "      <td>15.4</td>\n",
       "      <td>True</td>\n",
       "      <td>46.2</td>\n",
       "      <td>3.67</td>\n",
       "      <td>5.0</td>\n",
       "      <td>14</td>\n",
       "    </tr>\n",
       "    <tr>\n",
       "      <th>1</th>\n",
       "      <td>Astapor</td>\n",
       "      <td>0</td>\n",
       "      <td>2014-01-29</td>\n",
       "      <td>5.0</td>\n",
       "      <td>1.00</td>\n",
       "      <td>2014-05-05</td>\n",
       "      <td>Android</td>\n",
       "      <td>0.0</td>\n",
       "      <td>False</td>\n",
       "      <td>50.0</td>\n",
       "      <td>8.26</td>\n",
       "      <td>5.0</td>\n",
       "      <td>57</td>\n",
       "    </tr>\n",
       "    <tr>\n",
       "      <th>2</th>\n",
       "      <td>Astapor</td>\n",
       "      <td>3</td>\n",
       "      <td>2014-01-06</td>\n",
       "      <td>4.3</td>\n",
       "      <td>1.00</td>\n",
       "      <td>2014-01-07</td>\n",
       "      <td>iPhone</td>\n",
       "      <td>0.0</td>\n",
       "      <td>False</td>\n",
       "      <td>100.0</td>\n",
       "      <td>0.77</td>\n",
       "      <td>5.0</td>\n",
       "      <td>175</td>\n",
       "    </tr>\n",
       "    <tr>\n",
       "      <th>3</th>\n",
       "      <td>King's Landing</td>\n",
       "      <td>9</td>\n",
       "      <td>2014-01-10</td>\n",
       "      <td>4.6</td>\n",
       "      <td>1.14</td>\n",
       "      <td>2014-06-29</td>\n",
       "      <td>iPhone</td>\n",
       "      <td>20.0</td>\n",
       "      <td>True</td>\n",
       "      <td>80.0</td>\n",
       "      <td>2.36</td>\n",
       "      <td>4.9</td>\n",
       "      <td>2</td>\n",
       "    </tr>\n",
       "    <tr>\n",
       "      <th>4</th>\n",
       "      <td>Winterfell</td>\n",
       "      <td>14</td>\n",
       "      <td>2014-01-27</td>\n",
       "      <td>4.4</td>\n",
       "      <td>1.19</td>\n",
       "      <td>2014-03-15</td>\n",
       "      <td>Android</td>\n",
       "      <td>11.8</td>\n",
       "      <td>False</td>\n",
       "      <td>82.4</td>\n",
       "      <td>3.13</td>\n",
       "      <td>4.9</td>\n",
       "      <td>108</td>\n",
       "    </tr>\n",
       "  </tbody>\n",
       "</table>\n",
       "</div>"
      ],
      "text/plain": [
       "             city  trips_in_first_30_days signup_date  avg_rating_of_driver  \\\n",
       "0  King's Landing                       4  2014-01-25                   4.7   \n",
       "1         Astapor                       0  2014-01-29                   5.0   \n",
       "2         Astapor                       3  2014-01-06                   4.3   \n",
       "3  King's Landing                       9  2014-01-10                   4.6   \n",
       "4      Winterfell                      14  2014-01-27                   4.4   \n",
       "\n",
       "   avg_surge last_trip_date    phone  surge_pct  ultimate_black_user  \\\n",
       "0       1.10     2014-06-17   iPhone       15.4                 True   \n",
       "1       1.00     2014-05-05  Android        0.0                False   \n",
       "2       1.00     2014-01-07   iPhone        0.0                False   \n",
       "3       1.14     2014-06-29   iPhone       20.0                 True   \n",
       "4       1.19     2014-03-15  Android       11.8                False   \n",
       "\n",
       "   weekday_pct  avg_dist  avg_rating_by_driver  days_since_last_trip  \n",
       "0         46.2      3.67                   5.0                    14  \n",
       "1         50.0      8.26                   5.0                    57  \n",
       "2        100.0      0.77                   5.0                   175  \n",
       "3         80.0      2.36                   4.9                     2  \n",
       "4         82.4      3.13                   4.9                   108  "
      ]
     },
     "execution_count": 17,
     "metadata": {},
     "output_type": "execute_result"
    }
   ],
   "source": [
    "drivers['days_since_last_trip'] = (drivers['last_trip_date'].max() - drivers['last_trip_date']).dt.days\n",
    "drivers.head()"
   ]
  },
  {
   "cell_type": "code",
   "execution_count": 18,
   "id": "3ffbd7b4",
   "metadata": {},
   "outputs": [],
   "source": [
    "drivers['retained'] = drivers['days_since_last_trip'] <= 30"
   ]
  },
  {
   "cell_type": "code",
   "execution_count": 19,
   "id": "bed5a96a",
   "metadata": {},
   "outputs": [
    {
     "data": {
      "text/html": [
       "<div>\n",
       "<style scoped>\n",
       "    .dataframe tbody tr th:only-of-type {\n",
       "        vertical-align: middle;\n",
       "    }\n",
       "\n",
       "    .dataframe tbody tr th {\n",
       "        vertical-align: top;\n",
       "    }\n",
       "\n",
       "    .dataframe thead th {\n",
       "        text-align: right;\n",
       "    }\n",
       "</style>\n",
       "<table border=\"1\" class=\"dataframe\">\n",
       "  <thead>\n",
       "    <tr style=\"text-align: right;\">\n",
       "      <th></th>\n",
       "      <th>city</th>\n",
       "      <th>trips_in_first_30_days</th>\n",
       "      <th>signup_date</th>\n",
       "      <th>avg_rating_of_driver</th>\n",
       "      <th>avg_surge</th>\n",
       "      <th>last_trip_date</th>\n",
       "      <th>phone</th>\n",
       "      <th>surge_pct</th>\n",
       "      <th>ultimate_black_user</th>\n",
       "      <th>weekday_pct</th>\n",
       "      <th>avg_dist</th>\n",
       "      <th>avg_rating_by_driver</th>\n",
       "      <th>days_since_last_trip</th>\n",
       "      <th>retained</th>\n",
       "    </tr>\n",
       "  </thead>\n",
       "  <tbody>\n",
       "    <tr>\n",
       "      <th>0</th>\n",
       "      <td>King's Landing</td>\n",
       "      <td>4</td>\n",
       "      <td>2014-01-25</td>\n",
       "      <td>4.7</td>\n",
       "      <td>1.10</td>\n",
       "      <td>2014-06-17</td>\n",
       "      <td>iPhone</td>\n",
       "      <td>15.4</td>\n",
       "      <td>True</td>\n",
       "      <td>46.2</td>\n",
       "      <td>3.67</td>\n",
       "      <td>5.0</td>\n",
       "      <td>14</td>\n",
       "      <td>True</td>\n",
       "    </tr>\n",
       "    <tr>\n",
       "      <th>1</th>\n",
       "      <td>Astapor</td>\n",
       "      <td>0</td>\n",
       "      <td>2014-01-29</td>\n",
       "      <td>5.0</td>\n",
       "      <td>1.00</td>\n",
       "      <td>2014-05-05</td>\n",
       "      <td>Android</td>\n",
       "      <td>0.0</td>\n",
       "      <td>False</td>\n",
       "      <td>50.0</td>\n",
       "      <td>8.26</td>\n",
       "      <td>5.0</td>\n",
       "      <td>57</td>\n",
       "      <td>False</td>\n",
       "    </tr>\n",
       "    <tr>\n",
       "      <th>2</th>\n",
       "      <td>Astapor</td>\n",
       "      <td>3</td>\n",
       "      <td>2014-01-06</td>\n",
       "      <td>4.3</td>\n",
       "      <td>1.00</td>\n",
       "      <td>2014-01-07</td>\n",
       "      <td>iPhone</td>\n",
       "      <td>0.0</td>\n",
       "      <td>False</td>\n",
       "      <td>100.0</td>\n",
       "      <td>0.77</td>\n",
       "      <td>5.0</td>\n",
       "      <td>175</td>\n",
       "      <td>False</td>\n",
       "    </tr>\n",
       "    <tr>\n",
       "      <th>3</th>\n",
       "      <td>King's Landing</td>\n",
       "      <td>9</td>\n",
       "      <td>2014-01-10</td>\n",
       "      <td>4.6</td>\n",
       "      <td>1.14</td>\n",
       "      <td>2014-06-29</td>\n",
       "      <td>iPhone</td>\n",
       "      <td>20.0</td>\n",
       "      <td>True</td>\n",
       "      <td>80.0</td>\n",
       "      <td>2.36</td>\n",
       "      <td>4.9</td>\n",
       "      <td>2</td>\n",
       "      <td>True</td>\n",
       "    </tr>\n",
       "    <tr>\n",
       "      <th>4</th>\n",
       "      <td>Winterfell</td>\n",
       "      <td>14</td>\n",
       "      <td>2014-01-27</td>\n",
       "      <td>4.4</td>\n",
       "      <td>1.19</td>\n",
       "      <td>2014-03-15</td>\n",
       "      <td>Android</td>\n",
       "      <td>11.8</td>\n",
       "      <td>False</td>\n",
       "      <td>82.4</td>\n",
       "      <td>3.13</td>\n",
       "      <td>4.9</td>\n",
       "      <td>108</td>\n",
       "      <td>False</td>\n",
       "    </tr>\n",
       "  </tbody>\n",
       "</table>\n",
       "</div>"
      ],
      "text/plain": [
       "             city  trips_in_first_30_days signup_date  avg_rating_of_driver  \\\n",
       "0  King's Landing                       4  2014-01-25                   4.7   \n",
       "1         Astapor                       0  2014-01-29                   5.0   \n",
       "2         Astapor                       3  2014-01-06                   4.3   \n",
       "3  King's Landing                       9  2014-01-10                   4.6   \n",
       "4      Winterfell                      14  2014-01-27                   4.4   \n",
       "\n",
       "   avg_surge last_trip_date    phone  surge_pct  ultimate_black_user  \\\n",
       "0       1.10     2014-06-17   iPhone       15.4                 True   \n",
       "1       1.00     2014-05-05  Android        0.0                False   \n",
       "2       1.00     2014-01-07   iPhone        0.0                False   \n",
       "3       1.14     2014-06-29   iPhone       20.0                 True   \n",
       "4       1.19     2014-03-15  Android       11.8                False   \n",
       "\n",
       "   weekday_pct  avg_dist  avg_rating_by_driver  days_since_last_trip  retained  \n",
       "0         46.2      3.67                   5.0                    14      True  \n",
       "1         50.0      8.26                   5.0                    57     False  \n",
       "2        100.0      0.77                   5.0                   175     False  \n",
       "3         80.0      2.36                   4.9                     2      True  \n",
       "4         82.4      3.13                   4.9                   108     False  "
      ]
     },
     "execution_count": 19,
     "metadata": {},
     "output_type": "execute_result"
    }
   ],
   "source": [
    "drivers.head()"
   ]
  },
  {
   "cell_type": "code",
   "execution_count": 20,
   "id": "cb7f4075",
   "metadata": {},
   "outputs": [
    {
     "data": {
      "text/plain": [
       "False    0.588973\n",
       "True     0.411027\n",
       "Name: retained, dtype: float64"
      ]
     },
     "execution_count": 20,
     "metadata": {},
     "output_type": "execute_result"
    }
   ],
   "source": [
    "drivers['retained'].value_counts(normalize=True)"
   ]
  },
  {
   "cell_type": "markdown",
   "id": "613fa68c",
   "metadata": {},
   "source": [
    "Only 41% of the drivers are retained."
   ]
  },
  {
   "cell_type": "markdown",
   "id": "27b463cb",
   "metadata": {},
   "source": [
    "# Preparing the data for modeling"
   ]
  },
  {
   "cell_type": "markdown",
   "id": "92bd4a95",
   "metadata": {},
   "source": [
    "### Categorical Columns"
   ]
  },
  {
   "cell_type": "code",
   "execution_count": 21,
   "id": "b0a0c16a",
   "metadata": {},
   "outputs": [
    {
     "data": {
      "text/plain": [
       "Winterfell        19161\n",
       "Astapor           13509\n",
       "King's Landing     8775\n",
       "Name: city, dtype: int64"
      ]
     },
     "execution_count": 21,
     "metadata": {},
     "output_type": "execute_result"
    }
   ],
   "source": [
    "drivers['city'].value_counts()"
   ]
  },
  {
   "cell_type": "code",
   "execution_count": 22,
   "id": "14276d61",
   "metadata": {},
   "outputs": [
    {
     "data": {
      "text/plain": [
       "iPhone     29352\n",
       "Android    12093\n",
       "Name: phone, dtype: int64"
      ]
     },
     "execution_count": 22,
     "metadata": {},
     "output_type": "execute_result"
    }
   ],
   "source": [
    "drivers['phone'].value_counts()"
   ]
  },
  {
   "cell_type": "code",
   "execution_count": 23,
   "id": "72b0bd8d",
   "metadata": {},
   "outputs": [
    {
     "data": {
      "text/html": [
       "<div>\n",
       "<style scoped>\n",
       "    .dataframe tbody tr th:only-of-type {\n",
       "        vertical-align: middle;\n",
       "    }\n",
       "\n",
       "    .dataframe tbody tr th {\n",
       "        vertical-align: top;\n",
       "    }\n",
       "\n",
       "    .dataframe thead th {\n",
       "        text-align: right;\n",
       "    }\n",
       "</style>\n",
       "<table border=\"1\" class=\"dataframe\">\n",
       "  <thead>\n",
       "    <tr style=\"text-align: right;\">\n",
       "      <th></th>\n",
       "      <th>city</th>\n",
       "      <th>trips_in_first_30_days</th>\n",
       "      <th>signup_date</th>\n",
       "      <th>avg_rating_of_driver</th>\n",
       "      <th>avg_surge</th>\n",
       "      <th>last_trip_date</th>\n",
       "      <th>phone</th>\n",
       "      <th>surge_pct</th>\n",
       "      <th>ultimate_black_user</th>\n",
       "      <th>weekday_pct</th>\n",
       "      <th>avg_dist</th>\n",
       "      <th>avg_rating_by_driver</th>\n",
       "      <th>days_since_last_trip</th>\n",
       "      <th>retained</th>\n",
       "    </tr>\n",
       "  </thead>\n",
       "  <tbody>\n",
       "    <tr>\n",
       "      <th>0</th>\n",
       "      <td>King's Landing</td>\n",
       "      <td>4</td>\n",
       "      <td>2014-01-25</td>\n",
       "      <td>4.7</td>\n",
       "      <td>1.10</td>\n",
       "      <td>2014-06-17</td>\n",
       "      <td>iPhone</td>\n",
       "      <td>15.4</td>\n",
       "      <td>1</td>\n",
       "      <td>46.2</td>\n",
       "      <td>3.67</td>\n",
       "      <td>5.0</td>\n",
       "      <td>14</td>\n",
       "      <td>1</td>\n",
       "    </tr>\n",
       "    <tr>\n",
       "      <th>1</th>\n",
       "      <td>Astapor</td>\n",
       "      <td>0</td>\n",
       "      <td>2014-01-29</td>\n",
       "      <td>5.0</td>\n",
       "      <td>1.00</td>\n",
       "      <td>2014-05-05</td>\n",
       "      <td>Android</td>\n",
       "      <td>0.0</td>\n",
       "      <td>0</td>\n",
       "      <td>50.0</td>\n",
       "      <td>8.26</td>\n",
       "      <td>5.0</td>\n",
       "      <td>57</td>\n",
       "      <td>0</td>\n",
       "    </tr>\n",
       "    <tr>\n",
       "      <th>2</th>\n",
       "      <td>Astapor</td>\n",
       "      <td>3</td>\n",
       "      <td>2014-01-06</td>\n",
       "      <td>4.3</td>\n",
       "      <td>1.00</td>\n",
       "      <td>2014-01-07</td>\n",
       "      <td>iPhone</td>\n",
       "      <td>0.0</td>\n",
       "      <td>0</td>\n",
       "      <td>100.0</td>\n",
       "      <td>0.77</td>\n",
       "      <td>5.0</td>\n",
       "      <td>175</td>\n",
       "      <td>0</td>\n",
       "    </tr>\n",
       "    <tr>\n",
       "      <th>3</th>\n",
       "      <td>King's Landing</td>\n",
       "      <td>9</td>\n",
       "      <td>2014-01-10</td>\n",
       "      <td>4.6</td>\n",
       "      <td>1.14</td>\n",
       "      <td>2014-06-29</td>\n",
       "      <td>iPhone</td>\n",
       "      <td>20.0</td>\n",
       "      <td>1</td>\n",
       "      <td>80.0</td>\n",
       "      <td>2.36</td>\n",
       "      <td>4.9</td>\n",
       "      <td>2</td>\n",
       "      <td>1</td>\n",
       "    </tr>\n",
       "    <tr>\n",
       "      <th>4</th>\n",
       "      <td>Winterfell</td>\n",
       "      <td>14</td>\n",
       "      <td>2014-01-27</td>\n",
       "      <td>4.4</td>\n",
       "      <td>1.19</td>\n",
       "      <td>2014-03-15</td>\n",
       "      <td>Android</td>\n",
       "      <td>11.8</td>\n",
       "      <td>0</td>\n",
       "      <td>82.4</td>\n",
       "      <td>3.13</td>\n",
       "      <td>4.9</td>\n",
       "      <td>108</td>\n",
       "      <td>0</td>\n",
       "    </tr>\n",
       "  </tbody>\n",
       "</table>\n",
       "</div>"
      ],
      "text/plain": [
       "             city  trips_in_first_30_days signup_date  avg_rating_of_driver  \\\n",
       "0  King's Landing                       4  2014-01-25                   4.7   \n",
       "1         Astapor                       0  2014-01-29                   5.0   \n",
       "2         Astapor                       3  2014-01-06                   4.3   \n",
       "3  King's Landing                       9  2014-01-10                   4.6   \n",
       "4      Winterfell                      14  2014-01-27                   4.4   \n",
       "\n",
       "   avg_surge last_trip_date    phone  surge_pct  ultimate_black_user  \\\n",
       "0       1.10     2014-06-17   iPhone       15.4                    1   \n",
       "1       1.00     2014-05-05  Android        0.0                    0   \n",
       "2       1.00     2014-01-07   iPhone        0.0                    0   \n",
       "3       1.14     2014-06-29   iPhone       20.0                    1   \n",
       "4       1.19     2014-03-15  Android       11.8                    0   \n",
       "\n",
       "   weekday_pct  avg_dist  avg_rating_by_driver  days_since_last_trip  retained  \n",
       "0         46.2      3.67                   5.0                    14         1  \n",
       "1         50.0      8.26                   5.0                    57         0  \n",
       "2        100.0      0.77                   5.0                   175         0  \n",
       "3         80.0      2.36                   4.9                     2         1  \n",
       "4         82.4      3.13                   4.9                   108         0  "
      ]
     },
     "execution_count": 23,
     "metadata": {},
     "output_type": "execute_result"
    }
   ],
   "source": [
    "drivers['ultimate_black_user'] = drivers['ultimate_black_user'].replace({True: 1, False: 0})\n",
    "drivers['retained'] = drivers['retained'].replace({True: 1, False: 0})\n",
    "drivers.head()"
   ]
  },
  {
   "cell_type": "code",
   "execution_count": 97,
   "id": "3e756eb8",
   "metadata": {},
   "outputs": [],
   "source": [
    "# One-Hot Encoding city and phone columns\n",
    "\n",
    "cat_cols = ['city', 'phone']\n",
    "df = pd.get_dummies(drivers, prefix=['city_', 'phone_'], columns=cat_cols)"
   ]
  },
  {
   "cell_type": "code",
   "execution_count": 25,
   "id": "f0c8b203",
   "metadata": {},
   "outputs": [
    {
     "data": {
      "text/html": [
       "<div>\n",
       "<style scoped>\n",
       "    .dataframe tbody tr th:only-of-type {\n",
       "        vertical-align: middle;\n",
       "    }\n",
       "\n",
       "    .dataframe tbody tr th {\n",
       "        vertical-align: top;\n",
       "    }\n",
       "\n",
       "    .dataframe thead th {\n",
       "        text-align: right;\n",
       "    }\n",
       "</style>\n",
       "<table border=\"1\" class=\"dataframe\">\n",
       "  <thead>\n",
       "    <tr style=\"text-align: right;\">\n",
       "      <th></th>\n",
       "      <th>trips_in_first_30_days</th>\n",
       "      <th>signup_date</th>\n",
       "      <th>avg_rating_of_driver</th>\n",
       "      <th>avg_surge</th>\n",
       "      <th>last_trip_date</th>\n",
       "      <th>surge_pct</th>\n",
       "      <th>ultimate_black_user</th>\n",
       "      <th>weekday_pct</th>\n",
       "      <th>avg_dist</th>\n",
       "      <th>avg_rating_by_driver</th>\n",
       "      <th>days_since_last_trip</th>\n",
       "      <th>retained</th>\n",
       "      <th>city__Astapor</th>\n",
       "      <th>city__King's Landing</th>\n",
       "      <th>city__Winterfell</th>\n",
       "      <th>phone__Android</th>\n",
       "      <th>phone__iPhone</th>\n",
       "    </tr>\n",
       "  </thead>\n",
       "  <tbody>\n",
       "    <tr>\n",
       "      <th>0</th>\n",
       "      <td>4</td>\n",
       "      <td>2014-01-25</td>\n",
       "      <td>4.7</td>\n",
       "      <td>1.10</td>\n",
       "      <td>2014-06-17</td>\n",
       "      <td>15.4</td>\n",
       "      <td>1</td>\n",
       "      <td>46.2</td>\n",
       "      <td>3.67</td>\n",
       "      <td>5.0</td>\n",
       "      <td>14</td>\n",
       "      <td>1</td>\n",
       "      <td>0</td>\n",
       "      <td>1</td>\n",
       "      <td>0</td>\n",
       "      <td>0</td>\n",
       "      <td>1</td>\n",
       "    </tr>\n",
       "    <tr>\n",
       "      <th>1</th>\n",
       "      <td>0</td>\n",
       "      <td>2014-01-29</td>\n",
       "      <td>5.0</td>\n",
       "      <td>1.00</td>\n",
       "      <td>2014-05-05</td>\n",
       "      <td>0.0</td>\n",
       "      <td>0</td>\n",
       "      <td>50.0</td>\n",
       "      <td>8.26</td>\n",
       "      <td>5.0</td>\n",
       "      <td>57</td>\n",
       "      <td>0</td>\n",
       "      <td>1</td>\n",
       "      <td>0</td>\n",
       "      <td>0</td>\n",
       "      <td>1</td>\n",
       "      <td>0</td>\n",
       "    </tr>\n",
       "    <tr>\n",
       "      <th>2</th>\n",
       "      <td>3</td>\n",
       "      <td>2014-01-06</td>\n",
       "      <td>4.3</td>\n",
       "      <td>1.00</td>\n",
       "      <td>2014-01-07</td>\n",
       "      <td>0.0</td>\n",
       "      <td>0</td>\n",
       "      <td>100.0</td>\n",
       "      <td>0.77</td>\n",
       "      <td>5.0</td>\n",
       "      <td>175</td>\n",
       "      <td>0</td>\n",
       "      <td>1</td>\n",
       "      <td>0</td>\n",
       "      <td>0</td>\n",
       "      <td>0</td>\n",
       "      <td>1</td>\n",
       "    </tr>\n",
       "    <tr>\n",
       "      <th>3</th>\n",
       "      <td>9</td>\n",
       "      <td>2014-01-10</td>\n",
       "      <td>4.6</td>\n",
       "      <td>1.14</td>\n",
       "      <td>2014-06-29</td>\n",
       "      <td>20.0</td>\n",
       "      <td>1</td>\n",
       "      <td>80.0</td>\n",
       "      <td>2.36</td>\n",
       "      <td>4.9</td>\n",
       "      <td>2</td>\n",
       "      <td>1</td>\n",
       "      <td>0</td>\n",
       "      <td>1</td>\n",
       "      <td>0</td>\n",
       "      <td>0</td>\n",
       "      <td>1</td>\n",
       "    </tr>\n",
       "    <tr>\n",
       "      <th>4</th>\n",
       "      <td>14</td>\n",
       "      <td>2014-01-27</td>\n",
       "      <td>4.4</td>\n",
       "      <td>1.19</td>\n",
       "      <td>2014-03-15</td>\n",
       "      <td>11.8</td>\n",
       "      <td>0</td>\n",
       "      <td>82.4</td>\n",
       "      <td>3.13</td>\n",
       "      <td>4.9</td>\n",
       "      <td>108</td>\n",
       "      <td>0</td>\n",
       "      <td>0</td>\n",
       "      <td>0</td>\n",
       "      <td>1</td>\n",
       "      <td>1</td>\n",
       "      <td>0</td>\n",
       "    </tr>\n",
       "  </tbody>\n",
       "</table>\n",
       "</div>"
      ],
      "text/plain": [
       "   trips_in_first_30_days signup_date  avg_rating_of_driver  avg_surge  \\\n",
       "0                       4  2014-01-25                   4.7       1.10   \n",
       "1                       0  2014-01-29                   5.0       1.00   \n",
       "2                       3  2014-01-06                   4.3       1.00   \n",
       "3                       9  2014-01-10                   4.6       1.14   \n",
       "4                      14  2014-01-27                   4.4       1.19   \n",
       "\n",
       "  last_trip_date  surge_pct  ultimate_black_user  weekday_pct  avg_dist  \\\n",
       "0     2014-06-17       15.4                    1         46.2      3.67   \n",
       "1     2014-05-05        0.0                    0         50.0      8.26   \n",
       "2     2014-01-07        0.0                    0        100.0      0.77   \n",
       "3     2014-06-29       20.0                    1         80.0      2.36   \n",
       "4     2014-03-15       11.8                    0         82.4      3.13   \n",
       "\n",
       "   avg_rating_by_driver  days_since_last_trip  retained  city__Astapor  \\\n",
       "0                   5.0                    14         1              0   \n",
       "1                   5.0                    57         0              1   \n",
       "2                   5.0                   175         0              1   \n",
       "3                   4.9                     2         1              0   \n",
       "4                   4.9                   108         0              0   \n",
       "\n",
       "   city__King's Landing  city__Winterfell  phone__Android  phone__iPhone  \n",
       "0                     1                 0               0              1  \n",
       "1                     0                 0               1              0  \n",
       "2                     0                 0               0              1  \n",
       "3                     1                 0               0              1  \n",
       "4                     0                 1               1              0  "
      ]
     },
     "execution_count": 25,
     "metadata": {},
     "output_type": "execute_result"
    }
   ],
   "source": [
    "df.head()"
   ]
  },
  {
   "cell_type": "code",
   "execution_count": 26,
   "id": "457b049b",
   "metadata": {},
   "outputs": [],
   "source": [
    "# Dropping unneeded columns\n",
    "\n",
    "df = df.drop(columns=['signup_date', 'last_trip_date', 'days_since_last_trip'], axis=1)"
   ]
  },
  {
   "cell_type": "code",
   "execution_count": 27,
   "id": "5436d4db",
   "metadata": {
    "scrolled": true
   },
   "outputs": [
    {
     "data": {
      "text/html": [
       "<div>\n",
       "<style scoped>\n",
       "    .dataframe tbody tr th:only-of-type {\n",
       "        vertical-align: middle;\n",
       "    }\n",
       "\n",
       "    .dataframe tbody tr th {\n",
       "        vertical-align: top;\n",
       "    }\n",
       "\n",
       "    .dataframe thead th {\n",
       "        text-align: right;\n",
       "    }\n",
       "</style>\n",
       "<table border=\"1\" class=\"dataframe\">\n",
       "  <thead>\n",
       "    <tr style=\"text-align: right;\">\n",
       "      <th></th>\n",
       "      <th>trips_in_first_30_days</th>\n",
       "      <th>avg_rating_of_driver</th>\n",
       "      <th>avg_surge</th>\n",
       "      <th>surge_pct</th>\n",
       "      <th>ultimate_black_user</th>\n",
       "      <th>weekday_pct</th>\n",
       "      <th>avg_dist</th>\n",
       "      <th>avg_rating_by_driver</th>\n",
       "      <th>retained</th>\n",
       "      <th>city__Astapor</th>\n",
       "      <th>city__King's Landing</th>\n",
       "      <th>city__Winterfell</th>\n",
       "      <th>phone__Android</th>\n",
       "      <th>phone__iPhone</th>\n",
       "    </tr>\n",
       "  </thead>\n",
       "  <tbody>\n",
       "    <tr>\n",
       "      <th>0</th>\n",
       "      <td>4</td>\n",
       "      <td>4.7</td>\n",
       "      <td>1.1</td>\n",
       "      <td>15.4</td>\n",
       "      <td>1</td>\n",
       "      <td>46.2</td>\n",
       "      <td>3.67</td>\n",
       "      <td>5.0</td>\n",
       "      <td>1</td>\n",
       "      <td>0</td>\n",
       "      <td>1</td>\n",
       "      <td>0</td>\n",
       "      <td>0</td>\n",
       "      <td>1</td>\n",
       "    </tr>\n",
       "    <tr>\n",
       "      <th>1</th>\n",
       "      <td>0</td>\n",
       "      <td>5.0</td>\n",
       "      <td>1.0</td>\n",
       "      <td>0.0</td>\n",
       "      <td>0</td>\n",
       "      <td>50.0</td>\n",
       "      <td>8.26</td>\n",
       "      <td>5.0</td>\n",
       "      <td>0</td>\n",
       "      <td>1</td>\n",
       "      <td>0</td>\n",
       "      <td>0</td>\n",
       "      <td>1</td>\n",
       "      <td>0</td>\n",
       "    </tr>\n",
       "    <tr>\n",
       "      <th>2</th>\n",
       "      <td>3</td>\n",
       "      <td>4.3</td>\n",
       "      <td>1.0</td>\n",
       "      <td>0.0</td>\n",
       "      <td>0</td>\n",
       "      <td>100.0</td>\n",
       "      <td>0.77</td>\n",
       "      <td>5.0</td>\n",
       "      <td>0</td>\n",
       "      <td>1</td>\n",
       "      <td>0</td>\n",
       "      <td>0</td>\n",
       "      <td>0</td>\n",
       "      <td>1</td>\n",
       "    </tr>\n",
       "  </tbody>\n",
       "</table>\n",
       "</div>"
      ],
      "text/plain": [
       "   trips_in_first_30_days  avg_rating_of_driver  avg_surge  surge_pct  \\\n",
       "0                       4                   4.7        1.1       15.4   \n",
       "1                       0                   5.0        1.0        0.0   \n",
       "2                       3                   4.3        1.0        0.0   \n",
       "\n",
       "   ultimate_black_user  weekday_pct  avg_dist  avg_rating_by_driver  retained  \\\n",
       "0                    1         46.2      3.67                   5.0         1   \n",
       "1                    0         50.0      8.26                   5.0         0   \n",
       "2                    0        100.0      0.77                   5.0         0   \n",
       "\n",
       "   city__Astapor  city__King's Landing  city__Winterfell  phone__Android  \\\n",
       "0              0                     1                 0               0   \n",
       "1              1                     0                 0               1   \n",
       "2              1                     0                 0               0   \n",
       "\n",
       "   phone__iPhone  \n",
       "0              1  \n",
       "1              0  \n",
       "2              1  "
      ]
     },
     "execution_count": 27,
     "metadata": {},
     "output_type": "execute_result"
    }
   ],
   "source": [
    "df.head(3)"
   ]
  },
  {
   "cell_type": "markdown",
   "id": "3d3ede8f",
   "metadata": {},
   "source": [
    "# Standardizing Numeric Columns"
   ]
  },
  {
   "cell_type": "code",
   "execution_count": 28,
   "id": "d47bfd49",
   "metadata": {},
   "outputs": [],
   "source": [
    "from sklearn.preprocessing import StandardScaler\n",
    "scaler = StandardScaler()\n",
    "\n",
    "to_standardize = ['trips_in_first_30_days', 'avg_rating_of_driver', 'avg_surge', \n",
    "                  'surge_pct', 'weekday_pct', 'avg_dist', 'avg_rating_by_driver']\n",
    "\n",
    "scaler.fit(df[to_standardize])\n",
    "df[to_standardize] = scaler.transform(df[to_standardize])"
   ]
  },
  {
   "cell_type": "code",
   "execution_count": 29,
   "id": "01a1e4c2",
   "metadata": {
    "scrolled": true
   },
   "outputs": [
    {
     "data": {
      "text/html": [
       "<div>\n",
       "<style scoped>\n",
       "    .dataframe tbody tr th:only-of-type {\n",
       "        vertical-align: middle;\n",
       "    }\n",
       "\n",
       "    .dataframe tbody tr th {\n",
       "        vertical-align: top;\n",
       "    }\n",
       "\n",
       "    .dataframe thead th {\n",
       "        text-align: right;\n",
       "    }\n",
       "</style>\n",
       "<table border=\"1\" class=\"dataframe\">\n",
       "  <thead>\n",
       "    <tr style=\"text-align: right;\">\n",
       "      <th></th>\n",
       "      <th>trips_in_first_30_days</th>\n",
       "      <th>avg_rating_of_driver</th>\n",
       "      <th>avg_surge</th>\n",
       "      <th>surge_pct</th>\n",
       "      <th>ultimate_black_user</th>\n",
       "      <th>weekday_pct</th>\n",
       "      <th>avg_dist</th>\n",
       "      <th>avg_rating_by_driver</th>\n",
       "      <th>retained</th>\n",
       "      <th>city__Astapor</th>\n",
       "      <th>city__King's Landing</th>\n",
       "      <th>city__Winterfell</th>\n",
       "      <th>phone__Android</th>\n",
       "      <th>phone__iPhone</th>\n",
       "    </tr>\n",
       "  </thead>\n",
       "  <tbody>\n",
       "    <tr>\n",
       "      <th>0</th>\n",
       "      <td>0.342505</td>\n",
       "      <td>0.159520</td>\n",
       "      <td>0.131718</td>\n",
       "      <td>0.354838</td>\n",
       "      <td>1</td>\n",
       "      <td>-0.432445</td>\n",
       "      <td>-0.347912</td>\n",
       "      <td>0.552529</td>\n",
       "      <td>1</td>\n",
       "      <td>0</td>\n",
       "      <td>1</td>\n",
       "      <td>0</td>\n",
       "      <td>0</td>\n",
       "      <td>1</td>\n",
       "    </tr>\n",
       "    <tr>\n",
       "      <th>1</th>\n",
       "      <td>-0.642890</td>\n",
       "      <td>0.646456</td>\n",
       "      <td>-0.371440</td>\n",
       "      <td>-0.485689</td>\n",
       "      <td>0</td>\n",
       "      <td>-0.323292</td>\n",
       "      <td>0.544197</td>\n",
       "      <td>0.552529</td>\n",
       "      <td>0</td>\n",
       "      <td>1</td>\n",
       "      <td>0</td>\n",
       "      <td>0</td>\n",
       "      <td>1</td>\n",
       "      <td>0</td>\n",
       "    </tr>\n",
       "    <tr>\n",
       "      <th>2</th>\n",
       "      <td>0.096156</td>\n",
       "      <td>-0.489729</td>\n",
       "      <td>-0.371440</td>\n",
       "      <td>-0.485689</td>\n",
       "      <td>0</td>\n",
       "      <td>1.112936</td>\n",
       "      <td>-0.911554</td>\n",
       "      <td>0.552529</td>\n",
       "      <td>0</td>\n",
       "      <td>1</td>\n",
       "      <td>0</td>\n",
       "      <td>0</td>\n",
       "      <td>0</td>\n",
       "      <td>1</td>\n",
       "    </tr>\n",
       "    <tr>\n",
       "      <th>3</th>\n",
       "      <td>1.574248</td>\n",
       "      <td>-0.002792</td>\n",
       "      <td>0.332981</td>\n",
       "      <td>0.605905</td>\n",
       "      <td>1</td>\n",
       "      <td>0.538445</td>\n",
       "      <td>-0.602523</td>\n",
       "      <td>0.305372</td>\n",
       "      <td>1</td>\n",
       "      <td>0</td>\n",
       "      <td>1</td>\n",
       "      <td>0</td>\n",
       "      <td>0</td>\n",
       "      <td>1</td>\n",
       "    </tr>\n",
       "    <tr>\n",
       "      <th>4</th>\n",
       "      <td>2.805992</td>\n",
       "      <td>-0.327417</td>\n",
       "      <td>0.584560</td>\n",
       "      <td>0.158351</td>\n",
       "      <td>0</td>\n",
       "      <td>0.607384</td>\n",
       "      <td>-0.452866</td>\n",
       "      <td>0.305372</td>\n",
       "      <td>0</td>\n",
       "      <td>0</td>\n",
       "      <td>0</td>\n",
       "      <td>1</td>\n",
       "      <td>1</td>\n",
       "      <td>0</td>\n",
       "    </tr>\n",
       "  </tbody>\n",
       "</table>\n",
       "</div>"
      ],
      "text/plain": [
       "   trips_in_first_30_days  avg_rating_of_driver  avg_surge  surge_pct  \\\n",
       "0                0.342505              0.159520   0.131718   0.354838   \n",
       "1               -0.642890              0.646456  -0.371440  -0.485689   \n",
       "2                0.096156             -0.489729  -0.371440  -0.485689   \n",
       "3                1.574248             -0.002792   0.332981   0.605905   \n",
       "4                2.805992             -0.327417   0.584560   0.158351   \n",
       "\n",
       "   ultimate_black_user  weekday_pct  avg_dist  avg_rating_by_driver  retained  \\\n",
       "0                    1    -0.432445 -0.347912              0.552529         1   \n",
       "1                    0    -0.323292  0.544197              0.552529         0   \n",
       "2                    0     1.112936 -0.911554              0.552529         0   \n",
       "3                    1     0.538445 -0.602523              0.305372         1   \n",
       "4                    0     0.607384 -0.452866              0.305372         0   \n",
       "\n",
       "   city__Astapor  city__King's Landing  city__Winterfell  phone__Android  \\\n",
       "0              0                     1                 0               0   \n",
       "1              1                     0                 0               1   \n",
       "2              1                     0                 0               0   \n",
       "3              0                     1                 0               0   \n",
       "4              0                     0                 1               1   \n",
       "\n",
       "   phone__iPhone  \n",
       "0              1  \n",
       "1              0  \n",
       "2              1  \n",
       "3              1  \n",
       "4              0  "
      ]
     },
     "execution_count": 29,
     "metadata": {},
     "output_type": "execute_result"
    }
   ],
   "source": [
    "df.head()"
   ]
  },
  {
   "cell_type": "markdown",
   "id": "1f0c1df9",
   "metadata": {},
   "source": [
    "# Dividing the data into training and test set"
   ]
  },
  {
   "cell_type": "code",
   "execution_count": 30,
   "id": "8c122cb9",
   "metadata": {},
   "outputs": [],
   "source": [
    "X = df.drop(columns='retained', axis=1)\n",
    "y = df['retained']"
   ]
  },
  {
   "cell_type": "code",
   "execution_count": 31,
   "id": "e2e5f690",
   "metadata": {},
   "outputs": [],
   "source": [
    "from sklearn.model_selection import train_test_split\n",
    "X_train, X_test, y_train, y_test = train_test_split(X, y, test_size = 0.3, random_state=42)"
   ]
  },
  {
   "cell_type": "code",
   "execution_count": 32,
   "id": "688896ed",
   "metadata": {},
   "outputs": [
    {
     "name": "stdout",
     "output_type": "stream",
     "text": [
      "(29011, 13) (12434, 13) (29011,) (12434,)\n"
     ]
    }
   ],
   "source": [
    "print(X_train.shape, X_test.shape, y_train.shape, y_test.shape)"
   ]
  },
  {
   "cell_type": "markdown",
   "id": "c9538f0b",
   "metadata": {},
   "source": [
    "# Model 1 - Graident Boosting Classifier"
   ]
  },
  {
   "cell_type": "code",
   "execution_count": 33,
   "id": "54ebc53b",
   "metadata": {},
   "outputs": [],
   "source": [
    "from sklearn.ensemble import GradientBoostingClassifier\n",
    "gb = GradientBoostingClassifier(n_estimators=300, learning_rate=0.1, max_depth=3)\n",
    "gb.fit(X_train, y_train)\n",
    "y_pred_gb = gb.predict(X_test)"
   ]
  },
  {
   "cell_type": "code",
   "execution_count": 34,
   "id": "0fe6b5b7",
   "metadata": {},
   "outputs": [
    {
     "name": "stdout",
     "output_type": "stream",
     "text": [
      "0.8554857235475564\n"
     ]
    }
   ],
   "source": [
    "from sklearn.metrics import classification_report, confusion_matrix, accuracy_score, roc_auc_score, roc_curve\n",
    "y_pred_proba_gb = gb.predict_proba(X_test)[:,1]\n",
    "fpr_gb, tpr_gb, thresholds_gb = roc_curve(y_test, y_pred_proba_gb)\n",
    "print(roc_auc_score(y_test, y_pred_proba_gb))"
   ]
  },
  {
   "cell_type": "code",
   "execution_count": 35,
   "id": "84a61c01",
   "metadata": {},
   "outputs": [
    {
     "name": "stdout",
     "output_type": "stream",
     "text": [
      "[[6150 1143]\n",
      " [1571 3570]]\n"
     ]
    }
   ],
   "source": [
    "cm_gb = confusion_matrix(y_test, y_pred_gb)\n",
    "print(cm_gb)"
   ]
  },
  {
   "cell_type": "markdown",
   "id": "9c2b1d4b",
   "metadata": {},
   "source": [
    "# Model 2 Random Forest Classifier"
   ]
  },
  {
   "cell_type": "code",
   "execution_count": 36,
   "id": "f3aac5b9",
   "metadata": {},
   "outputs": [],
   "source": [
    "from sklearn.ensemble import RandomForestClassifier\n",
    "rf = RandomForestClassifier(n_estimators=300, random_state=42)\n",
    "rf.fit(X_train, y_train)\n",
    "y_pred_rf = rf.predict(X_test)\n"
   ]
  },
  {
   "cell_type": "code",
   "execution_count": 37,
   "id": "e948a92c",
   "metadata": {},
   "outputs": [
    {
     "name": "stdout",
     "output_type": "stream",
     "text": [
      "0.8212610205985266\n"
     ]
    }
   ],
   "source": [
    "y_pred_proba_rf = rf.predict_proba(X_test)[:,1]\n",
    "fpr_rf, tpr_rf, thresholds_rf = roc_curve(y_test, y_pred_proba_rf)\n",
    "print(roc_auc_score(y_test, y_pred_proba_rf))"
   ]
  },
  {
   "cell_type": "code",
   "execution_count": 38,
   "id": "bbce28dd",
   "metadata": {},
   "outputs": [
    {
     "name": "stdout",
     "output_type": "stream",
     "text": [
      "[[5813 1480]\n",
      " [1581 3560]]\n"
     ]
    }
   ],
   "source": [
    "cm_rf = confusion_matrix(y_test, y_pred_rf)\n",
    "print(cm_rf)"
   ]
  },
  {
   "cell_type": "code",
   "execution_count": 48,
   "id": "9a9b8955",
   "metadata": {},
   "outputs": [
    {
     "name": "stdout",
     "output_type": "stream",
     "text": [
      "[0.60464251 0.08996432 0.92355013 ... 0.19346809 0.16533576 0.64175966]\n"
     ]
    }
   ],
   "source": [
    "print(y_pred_proba_gb)"
   ]
  },
  {
   "cell_type": "markdown",
   "id": "956dfe78",
   "metadata": {},
   "source": [
    "# Choosing the best model\n",
    "The Gradient Boosting Classifier performs better than the Random Forest Model. \n",
    "We can adjust the threshold value for the Gradient Boosting Classifier to improve the performance further.\n"
   ]
  },
  {
   "cell_type": "code",
   "execution_count": 47,
   "id": "d7bf86c1",
   "metadata": {},
   "outputs": [
    {
     "data": {
      "text/html": [
       "<div>\n",
       "<style scoped>\n",
       "    .dataframe tbody tr th:only-of-type {\n",
       "        vertical-align: middle;\n",
       "    }\n",
       "\n",
       "    .dataframe tbody tr th {\n",
       "        vertical-align: top;\n",
       "    }\n",
       "\n",
       "    .dataframe thead th {\n",
       "        text-align: right;\n",
       "    }\n",
       "</style>\n",
       "<table border=\"1\" class=\"dataframe\">\n",
       "  <thead>\n",
       "    <tr style=\"text-align: right;\">\n",
       "      <th></th>\n",
       "      <th>y_pred_gb</th>\n",
       "      <th>y_pred_proba_gb</th>\n",
       "    </tr>\n",
       "  </thead>\n",
       "  <tbody>\n",
       "    <tr>\n",
       "      <th>0</th>\n",
       "      <td>0.604643</td>\n",
       "      <td>1</td>\n",
       "    </tr>\n",
       "    <tr>\n",
       "      <th>1</th>\n",
       "      <td>0.089964</td>\n",
       "      <td>0</td>\n",
       "    </tr>\n",
       "    <tr>\n",
       "      <th>2</th>\n",
       "      <td>0.923550</td>\n",
       "      <td>1</td>\n",
       "    </tr>\n",
       "    <tr>\n",
       "      <th>3</th>\n",
       "      <td>0.062172</td>\n",
       "      <td>0</td>\n",
       "    </tr>\n",
       "    <tr>\n",
       "      <th>4</th>\n",
       "      <td>0.672817</td>\n",
       "      <td>1</td>\n",
       "    </tr>\n",
       "  </tbody>\n",
       "</table>\n",
       "</div>"
      ],
      "text/plain": [
       "   y_pred_gb  y_pred_proba_gb\n",
       "0   0.604643                1\n",
       "1   0.089964                0\n",
       "2   0.923550                1\n",
       "3   0.062172                0\n",
       "4   0.672817                1"
      ]
     },
     "execution_count": 47,
     "metadata": {},
     "output_type": "execute_result"
    }
   ],
   "source": [
    "new_pred = pd.DataFrame(y_pred_gb, y_pred_proba_gb)\n",
    "new_pred = new_pred.reset_index()\n",
    "new_pred.columns = ['y_pred_gb', 'y_pred_proba_gb']\n",
    "new_pred.head()"
   ]
  },
  {
   "cell_type": "code",
   "execution_count": 49,
   "id": "4c46708a",
   "metadata": {
    "scrolled": false
   },
   "outputs": [
    {
     "data": {
      "text/html": [
       "<div>\n",
       "<style scoped>\n",
       "    .dataframe tbody tr th:only-of-type {\n",
       "        vertical-align: middle;\n",
       "    }\n",
       "\n",
       "    .dataframe tbody tr th {\n",
       "        vertical-align: top;\n",
       "    }\n",
       "\n",
       "    .dataframe thead th {\n",
       "        text-align: right;\n",
       "    }\n",
       "</style>\n",
       "<table border=\"1\" class=\"dataframe\">\n",
       "  <thead>\n",
       "    <tr style=\"text-align: right;\">\n",
       "      <th></th>\n",
       "      <th>y_pred_gb</th>\n",
       "      <th>y_pred_proba_gb</th>\n",
       "      <th>new_y_pred</th>\n",
       "    </tr>\n",
       "  </thead>\n",
       "  <tbody>\n",
       "    <tr>\n",
       "      <th>0</th>\n",
       "      <td>0.604643</td>\n",
       "      <td>1</td>\n",
       "      <td>0</td>\n",
       "    </tr>\n",
       "    <tr>\n",
       "      <th>1</th>\n",
       "      <td>0.089964</td>\n",
       "      <td>0</td>\n",
       "      <td>0</td>\n",
       "    </tr>\n",
       "    <tr>\n",
       "      <th>2</th>\n",
       "      <td>0.923550</td>\n",
       "      <td>1</td>\n",
       "      <td>0</td>\n",
       "    </tr>\n",
       "    <tr>\n",
       "      <th>3</th>\n",
       "      <td>0.062172</td>\n",
       "      <td>0</td>\n",
       "      <td>0</td>\n",
       "    </tr>\n",
       "    <tr>\n",
       "      <th>4</th>\n",
       "      <td>0.672817</td>\n",
       "      <td>1</td>\n",
       "      <td>0</td>\n",
       "    </tr>\n",
       "  </tbody>\n",
       "</table>\n",
       "</div>"
      ],
      "text/plain": [
       "   y_pred_gb  y_pred_proba_gb  new_y_pred\n",
       "0   0.604643                1           0\n",
       "1   0.089964                0           0\n",
       "2   0.923550                1           0\n",
       "3   0.062172                0           0\n",
       "4   0.672817                1           0"
      ]
     },
     "execution_count": 49,
     "metadata": {},
     "output_type": "execute_result"
    }
   ],
   "source": [
    "#new_pred['new_y_pred'] = 0\n",
    "#new_pred.head()"
   ]
  },
  {
   "cell_type": "code",
   "execution_count": 63,
   "id": "274c1152",
   "metadata": {},
   "outputs": [],
   "source": [
    "#new_pred['new_y_pred'] = lambda x: 1 if new_pred['y_pred_gb'] > 0.5 else 0\n",
    "#new_pred['new_y_pred'].apply(lambda x: x if new_pred.y_pred_gb >= 0.5 else x)\n",
    "\n",
    "#new_pred = new_pred.assign(new_y_pred=lambda x: x if new_pred.y_pred_gb >= 0.5 else x)\n",
    "\n",
    "#new_pred['new_y_pred'] = np.where(new_pred['y_pred_gb'] > 0.5, new_pred['new_y_pred'], 1)"
   ]
  },
  {
   "cell_type": "code",
   "execution_count": 64,
   "id": "11b50f2d",
   "metadata": {},
   "outputs": [
    {
     "data": {
      "text/html": [
       "<div>\n",
       "<style scoped>\n",
       "    .dataframe tbody tr th:only-of-type {\n",
       "        vertical-align: middle;\n",
       "    }\n",
       "\n",
       "    .dataframe tbody tr th {\n",
       "        vertical-align: top;\n",
       "    }\n",
       "\n",
       "    .dataframe thead th {\n",
       "        text-align: right;\n",
       "    }\n",
       "</style>\n",
       "<table border=\"1\" class=\"dataframe\">\n",
       "  <thead>\n",
       "    <tr style=\"text-align: right;\">\n",
       "      <th></th>\n",
       "      <th>y_pred_gb</th>\n",
       "      <th>y_pred_proba_gb</th>\n",
       "      <th>new_y_pred</th>\n",
       "    </tr>\n",
       "  </thead>\n",
       "  <tbody>\n",
       "    <tr>\n",
       "      <th>0</th>\n",
       "      <td>0.604643</td>\n",
       "      <td>1</td>\n",
       "      <td>&lt;function &lt;lambda&gt; at 0x00000223ACE4A9D0&gt;</td>\n",
       "    </tr>\n",
       "    <tr>\n",
       "      <th>1</th>\n",
       "      <td>0.089964</td>\n",
       "      <td>0</td>\n",
       "      <td>1</td>\n",
       "    </tr>\n",
       "    <tr>\n",
       "      <th>2</th>\n",
       "      <td>0.923550</td>\n",
       "      <td>1</td>\n",
       "      <td>&lt;function &lt;lambda&gt; at 0x00000223ACE4A9D0&gt;</td>\n",
       "    </tr>\n",
       "    <tr>\n",
       "      <th>3</th>\n",
       "      <td>0.062172</td>\n",
       "      <td>0</td>\n",
       "      <td>1</td>\n",
       "    </tr>\n",
       "    <tr>\n",
       "      <th>4</th>\n",
       "      <td>0.672817</td>\n",
       "      <td>1</td>\n",
       "      <td>&lt;function &lt;lambda&gt; at 0x00000223ACE4A9D0&gt;</td>\n",
       "    </tr>\n",
       "  </tbody>\n",
       "</table>\n",
       "</div>"
      ],
      "text/plain": [
       "   y_pred_gb  y_pred_proba_gb                                 new_y_pred\n",
       "0   0.604643                1  <function <lambda> at 0x00000223ACE4A9D0>\n",
       "1   0.089964                0                                          1\n",
       "2   0.923550                1  <function <lambda> at 0x00000223ACE4A9D0>\n",
       "3   0.062172                0                                          1\n",
       "4   0.672817                1  <function <lambda> at 0x00000223ACE4A9D0>"
      ]
     },
     "execution_count": 64,
     "metadata": {},
     "output_type": "execute_result"
    }
   ],
   "source": [
    "#new_pred.head()"
   ]
  },
  {
   "cell_type": "code",
   "execution_count": 90,
   "id": "ff4cfeac",
   "metadata": {},
   "outputs": [],
   "source": [
    "# Choosing the optimal threshold value\n",
    "\n",
    "thresholds = pd.DataFrame(fpr_gb, tpr_gb).reset_index()\n",
    "thresholds['thresholds_gb'] = thresholds_gb\n",
    "#thresholds.reset_index()\n",
    "thresholds.columns = ['fpr_gb', 'tpr_gb', 'thresholds_gb']\n",
    "thresholds['fpr-tpr'] = thresholds['fpr_gb'] - thresholds['tpr_gb']\n",
    "thresholds = thresholds.sort_values(by='fpr-tpr', ascending=False)"
   ]
  },
  {
   "cell_type": "code",
   "execution_count": 91,
   "id": "ed4ecbd5",
   "metadata": {},
   "outputs": [
    {
     "data": {
      "text/html": [
       "<div>\n",
       "<style scoped>\n",
       "    .dataframe tbody tr th:only-of-type {\n",
       "        vertical-align: middle;\n",
       "    }\n",
       "\n",
       "    .dataframe tbody tr th {\n",
       "        vertical-align: top;\n",
       "    }\n",
       "\n",
       "    .dataframe thead th {\n",
       "        text-align: right;\n",
       "    }\n",
       "</style>\n",
       "<table border=\"1\" class=\"dataframe\">\n",
       "  <thead>\n",
       "    <tr style=\"text-align: right;\">\n",
       "      <th></th>\n",
       "      <th>fpr_gb</th>\n",
       "      <th>tpr_gb</th>\n",
       "      <th>thresholds_gb</th>\n",
       "      <th>fpr-tpr</th>\n",
       "    </tr>\n",
       "  </thead>\n",
       "  <tbody>\n",
       "    <tr>\n",
       "      <th>1914</th>\n",
       "      <td>0.753161</td>\n",
       "      <td>0.203620</td>\n",
       "      <td>0.423350</td>\n",
       "      <td>0.549541</td>\n",
       "    </tr>\n",
       "    <tr>\n",
       "      <th>1938</th>\n",
       "      <td>0.756857</td>\n",
       "      <td>0.207322</td>\n",
       "      <td>0.418352</td>\n",
       "      <td>0.549535</td>\n",
       "    </tr>\n",
       "    <tr>\n",
       "      <th>1960</th>\n",
       "      <td>0.760552</td>\n",
       "      <td>0.211024</td>\n",
       "      <td>0.413726</td>\n",
       "      <td>0.549528</td>\n",
       "    </tr>\n",
       "    <tr>\n",
       "      <th>1937</th>\n",
       "      <td>0.756662</td>\n",
       "      <td>0.207185</td>\n",
       "      <td>0.418435</td>\n",
       "      <td>0.549477</td>\n",
       "    </tr>\n",
       "    <tr>\n",
       "      <th>1929</th>\n",
       "      <td>0.755690</td>\n",
       "      <td>0.206225</td>\n",
       "      <td>0.419646</td>\n",
       "      <td>0.549464</td>\n",
       "    </tr>\n",
       "    <tr>\n",
       "      <th>...</th>\n",
       "      <td>...</td>\n",
       "      <td>...</td>\n",
       "      <td>...</td>\n",
       "      <td>...</td>\n",
       "    </tr>\n",
       "    <tr>\n",
       "      <th>2</th>\n",
       "      <td>0.000778</td>\n",
       "      <td>0.000000</td>\n",
       "      <td>0.979231</td>\n",
       "      <td>0.000778</td>\n",
       "    </tr>\n",
       "    <tr>\n",
       "      <th>3</th>\n",
       "      <td>0.000778</td>\n",
       "      <td>0.000137</td>\n",
       "      <td>0.979180</td>\n",
       "      <td>0.000641</td>\n",
       "    </tr>\n",
       "    <tr>\n",
       "      <th>1</th>\n",
       "      <td>0.000195</td>\n",
       "      <td>0.000000</td>\n",
       "      <td>0.982494</td>\n",
       "      <td>0.000195</td>\n",
       "    </tr>\n",
       "    <tr>\n",
       "      <th>0</th>\n",
       "      <td>0.000000</td>\n",
       "      <td>0.000000</td>\n",
       "      <td>1.982494</td>\n",
       "      <td>0.000000</td>\n",
       "    </tr>\n",
       "    <tr>\n",
       "      <th>4383</th>\n",
       "      <td>1.000000</td>\n",
       "      <td>1.000000</td>\n",
       "      <td>0.009060</td>\n",
       "      <td>0.000000</td>\n",
       "    </tr>\n",
       "  </tbody>\n",
       "</table>\n",
       "<p>4384 rows × 4 columns</p>\n",
       "</div>"
      ],
      "text/plain": [
       "        fpr_gb    tpr_gb  thresholds_gb   fpr-tpr\n",
       "1914  0.753161  0.203620       0.423350  0.549541\n",
       "1938  0.756857  0.207322       0.418352  0.549535\n",
       "1960  0.760552  0.211024       0.413726  0.549528\n",
       "1937  0.756662  0.207185       0.418435  0.549477\n",
       "1929  0.755690  0.206225       0.419646  0.549464\n",
       "...        ...       ...            ...       ...\n",
       "2     0.000778  0.000000       0.979231  0.000778\n",
       "3     0.000778  0.000137       0.979180  0.000641\n",
       "1     0.000195  0.000000       0.982494  0.000195\n",
       "0     0.000000  0.000000       1.982494  0.000000\n",
       "4383  1.000000  1.000000       0.009060  0.000000\n",
       "\n",
       "[4384 rows x 4 columns]"
      ]
     },
     "execution_count": 91,
     "metadata": {},
     "output_type": "execute_result"
    }
   ],
   "source": [
    "thresholds"
   ]
  },
  {
   "cell_type": "code",
   "execution_count": null,
   "id": "6b0cd6ae",
   "metadata": {},
   "outputs": [],
   "source": []
  }
 ],
 "metadata": {
  "kernelspec": {
   "display_name": "Python 3 (ipykernel)",
   "language": "python",
   "name": "python3"
  },
  "language_info": {
   "codemirror_mode": {
    "name": "ipython",
    "version": 3
   },
   "file_extension": ".py",
   "mimetype": "text/x-python",
   "name": "python",
   "nbconvert_exporter": "python",
   "pygments_lexer": "ipython3",
   "version": "3.9.7"
  }
 },
 "nbformat": 4,
 "nbformat_minor": 5
}
